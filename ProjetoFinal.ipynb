{
 "cells": [
  {
   "cell_type": "code",
   "execution_count": 4,
   "metadata": {
    "collapsed": true
   },
   "outputs": [],
   "source": [
    "import cv2\n",
    "import numpy as np\n",
    "import glob\n",
    "from matplotlib import pyplot as plt\n",
    "import math \n",
    "import argparse\n",
    "import yaml"
   ]
  },
  {
   "cell_type": "markdown",
   "metadata": {},
   "source": [
    "# Setando Variáveis"
   ]
  },
  {
   "cell_type": "code",
   "execution_count": 5,
   "metadata": {
    "collapsed": true
   },
   "outputs": [],
   "source": [
    "image_file = \"img/resized.png\"\n",
    "data_file = \"img/file\"\n",
    "#nomeVideo = \"img/parking_lot_1.mp4\"\n",
    "nomeVideo = \"img/parking_ifma_480p.mp4\"\n",
    "videoSaida = \"img/output.mp4\""
   ]
  },
  {
   "cell_type": "markdown",
   "metadata": {},
   "source": [
    "# Definindo Funções e Classes"
   ]
  },
  {
   "cell_type": "code",
   "execution_count": 9,
   "metadata": {
    "collapsed": true
   },
   "outputs": [],
   "source": [
    "def draw_contours(image,\n",
    "                  coordinates,\n",
    "                  label,\n",
    "                  font_color,\n",
    "                  border_color= (255,0,0),\n",
    "                  line_thickness=1,\n",
    "                  font=cv2.FONT_HERSHEY_SIMPLEX,\n",
    "                  font_scale=0.5):\n",
    "    cv2.drawContours(image,\n",
    "                         [coordinates],\n",
    "                         contourIdx=-1,\n",
    "                         color=border_color,\n",
    "                         thickness=2,\n",
    "                         lineType=cv2.LINE_8)\n",
    "    moments = cv2.moments(coordinates)\n",
    "\n",
    "    center = (int(moments[\"m10\"] / moments[\"m00\"]) - 3,\n",
    "              int(moments[\"m01\"] / moments[\"m00\"]) + 3)\n",
    "\n",
    "    cv2.putText(image,\n",
    "                    label,\n",
    "                    center,\n",
    "                    font,\n",
    "                    font_scale,\n",
    "                    font_color,\n",
    "                    line_thickness,\n",
    "                    cv2.LINE_AA)\n",
    "\n",
    "\n",
    "class CoordinatesGenerator:\n",
    "    KEY_RESET = ord(\"r\")\n",
    "    KEY_QUIT = ord(\"q\")\n",
    "\n",
    "    def __init__(self, image, output, color):\n",
    "        self.output = output\n",
    "        self.caption = image\n",
    "        self.color = color\n",
    "\n",
    "        self.image = cv2.imread(image).copy()\n",
    "        #self.image = image.copy()\n",
    "        self.click_count = 0\n",
    "        self.ids = 0\n",
    "        self.coordinates = []\n",
    "        # = Cria Janela com dimensões livres\n",
    "        #cv2.WINDOW_GUI_EXPANDED\n",
    "        cv2.namedWindow(self.caption, cv2.WINDOW_NORMAL)\n",
    "        cv2.setMouseCallback(self.caption, self.__mouse_callback)\n",
    "\n",
    "    def generate(self):\n",
    "        while True:\n",
    "            cv2.imshow(self.caption, self.image)\n",
    "            key = cv2.waitKey(0)\n",
    "\n",
    "            if key == CoordinatesGenerator.KEY_RESET:\n",
    "                self.image = self.image.copy()\n",
    "            elif key == CoordinatesGenerator.KEY_QUIT:\n",
    "                break\n",
    "        cv2.destroyWindow(self.caption)\n",
    "\n",
    "    def __mouse_callback(self, event, x, y, flags, params):\n",
    "\n",
    "        if event == cv2.EVENT_LBUTTONDOWN:\n",
    "            self.coordinates.append((x, y))\n",
    "            self.click_count += 1\n",
    "\n",
    "            if self.click_count >= 4:\n",
    "                self.__handle_done()\n",
    "\n",
    "            elif self.click_count > 1:\n",
    "                self.__handle_click_progress()\n",
    "\n",
    "        cv2.imshow(self.caption, self.image)\n",
    "\n",
    "    def __handle_click_progress(self):\n",
    "        cv2.line(self.image, self.coordinates[-2], self.coordinates[-1], (255, 0, 0), 1)\n",
    "\n",
    "    def __handle_done(self):\n",
    "        cv2.line(self.image,\n",
    "                     self.coordinates[2],\n",
    "                     self.coordinates[3],\n",
    "                     self.color,\n",
    "                     1)\n",
    "        cv2.line(self.image,\n",
    "                     self.coordinates[3],\n",
    "                     self.coordinates[0],\n",
    "                     self.color,\n",
    "                     1)\n",
    "\n",
    "        self.click_count = 0\n",
    "\n",
    "        coordinates = np.array(self.coordinates)\n",
    "\n",
    "        self.output.write(\"-\\n          id: \" + str(self.ids) + \"\\n          coordinates: [\" +\n",
    "                          \"[\" + str(self.coordinates[0][0]) + \",\" + str(self.coordinates[0][1]) + \"],\" +\n",
    "                          \"[\" + str(self.coordinates[1][0]) + \",\" + str(self.coordinates[1][1]) + \"],\" +\n",
    "                          \"[\" + str(self.coordinates[2][0]) + \",\" + str(self.coordinates[2][1]) + \"],\" +\n",
    "                          \"[\" + str(self.coordinates[3][0]) + \",\" + str(self.coordinates[3][1]) + \"]]\\n\")\n",
    "\n",
    "        draw_contours(self.image, coordinates, str(self.ids + 1), (255,255,255))\n",
    "\n",
    "        for i in range(0, 4):\n",
    "            self.coordinates.pop()\n",
    "\n",
    "        self.ids += 1"
   ]
  },
  {
   "cell_type": "markdown",
   "metadata": {},
   "source": [
    "# Obter as coordenadas da Imagem \n"
   ]
  },
  {
   "cell_type": "code",
   "execution_count": 10,
   "metadata": {
    "collapsed": true
   },
   "outputs": [],
   "source": [
    "if image_file is not None:\n",
    "    #Coordenadas Salvas Em arquivo .yaml\n",
    "    with open(data_file, \"w+\") as points:\n",
    "            generator = CoordinatesGenerator(image_file, points, (255,0,0))\n",
    "            generator.generate()\n",
    "    #Leitura e passagem de Coordenadas para Lista poinnts\n",
    "    with open(data_file, \"r\") as data:\n",
    "        points = yaml.load(data)"
   ]
  },
  {
   "cell_type": "markdown",
   "metadata": {},
   "source": [
    "# Pontos Obtidos\n"
   ]
  },
  {
   "cell_type": "code",
   "execution_count": 11,
   "metadata": {},
   "outputs": [
    {
     "data": {
      "text/plain": [
       "[{'coordinates': [[328, 441], [499, 409], [412, 227], [264, 289]], 'id': 0}]"
      ]
     },
     "execution_count": 11,
     "metadata": {},
     "output_type": "execute_result"
    }
   ],
   "source": [
    "points"
   ]
  },
  {
   "cell_type": "markdown",
   "metadata": {},
   "source": [
    "# Detecção de Carro"
   ]
  },
  {
   "cell_type": "code",
   "execution_count": 12,
   "metadata": {
    "collapsed": true
   },
   "outputs": [],
   "source": [
    "#https://github.com/shaanhk/New-GithubTest/blob/master/cars.xml\n",
    "#https://www.geeksforgeeks.org/opencv-python-program-vehicle-detection-video-frame\n",
    "#https://raw.githubusercontent.com/abhi-kumar/CAR-DETECTION/master/cas4.xml\n",
    "\n",
    "# Classificador de Carros  Treinado com caracteristicas de alguns objetos que queremos identificar (xml)\n",
    "car_cascade = cv2.CascadeClassifier('cars.xml')   \n",
    "car_cascade2 = cv2.CascadeClassifier('cas4.xml')  ##Modelo De Classificação Não muito bom"
   ]
  },
  {
   "cell_type": "markdown",
   "metadata": {},
   "source": [
    "# Processando Video"
   ]
  },
  {
   "cell_type": "code",
   "execution_count": 15,
   "metadata": {},
   "outputs": [
    {
     "name": "stdout",
     "output_type": "stream",
     "text": [
      "Capture Error\n"
     ]
    }
   ],
   "source": [
    "config = {'save_video': False,\n",
    "          'text_overlay': True,\n",
    "          'parking_overlay': True,\n",
    "          'parking_id_overlay': False,\n",
    "          'parking_detection': True,\n",
    "          'min_area_motion_contour': 60,\n",
    "          'park_sec_to_wait': 3,\n",
    "          'start_frame': 0} #35000\n",
    "\n",
    "\n",
    "carros = []\n",
    "# Set capture device or file\n",
    "cap = cv2.VideoCapture(nomeVideo)\n",
    "# print cap.get(5) \n",
    "video_info = {'fps':    cap.get(cv2.CAP_PROP_FPS),\n",
    "              'width':  int(cap.get(cv2.CAP_PROP_FRAME_WIDTH)),\n",
    "              'height': int(cap.get(cv2.CAP_PROP_FRAME_HEIGHT)),\n",
    "              'fourcc': cap.get(cv2.CAP_PROP_FOURCC),\n",
    "              'num_of_frames': int(cap.get(cv2.CAP_PROP_FRAME_COUNT))}\n",
    "cap.set(cv2.CAP_PROP_POS_FRAMES, config['start_frame']) # jump to frame\n",
    "\n",
    "# Define the codec and create VideoWriter object\n",
    "if config['save_video']:\n",
    "    fourcc = cv2.VideoWriter_fourcc('D','I','V','X')# options: ('P','I','M','1'), ('D','I','V','X'), ('M','J','P','G'), ('X','V','I','D')\n",
    "    out = cv2.VideoWriter(fn_out, -1, 25.0, #video_info['fps'], \n",
    "                          (video_info['width'], video_info['height']))\n",
    "\n",
    "\n",
    " #(parking space polygons)\n",
    " \n",
    "parking_data = points\n",
    "parking_contours = []\n",
    "parking_bounding_rects = []\n",
    "parking_mask = []\n",
    "for park in parking_data:\n",
    "    points2 = np.array(park['coordinates'])\n",
    "    rect = cv2.boundingRect(points2)\n",
    "    points_shifted = points2.copy()\n",
    "    points_shifted[:,0] = points2[:,0] - rect[0] # shift contour to roi\n",
    "    points_shifted[:,1] = points2[:,1] - rect[1]\n",
    "    parking_contours.append(points2)\n",
    "    parking_bounding_rects.append(rect)\n",
    "    mask = cv2.drawContours(np.zeros((rect[3], rect[2]), dtype=np.uint8), [points_shifted], contourIdx=-1,\n",
    "                            color=255, thickness=-1, lineType=cv2.LINE_8)\n",
    "    mask = mask==255\n",
    "    parking_mask.append(mask)\n",
    "\n",
    "parking_status = [False]*len(parking_data)\n",
    "parking_buffer = [None]*len(parking_data)\n",
    "\n",
    "\n",
    "while(cap.isOpened()):   \n",
    "    spot = 0\n",
    "    occupied = 0 \n",
    "    # Read frame-by-frame    \n",
    "    video_cur_pos = cap.get(cv2.CAP_PROP_POS_MSEC) / 1000.0 # Current position of the video file in seconds\n",
    "    video_cur_frame = cap.get(cv2.CAP_PROP_POS_FRAMES) # Index of the frame to be decoded/captured next\n",
    "    ret, frame = cap.read()    \n",
    "    if ret == False:\n",
    "        print(\"Capture Error\")\n",
    "        break\n",
    "    \n",
    "    # frame_gray = cv2.cvtColor(frame.copy(), cv2.COLOR_BGR2GRAY)\n",
    "    # Background Subtraction\n",
    "    frame_blur = cv2.GaussianBlur(frame.copy(), (5,5), 3)\n",
    "    frame_gray = cv2.cvtColor(frame_blur, cv2.COLOR_BGR2GRAY)\n",
    "    frame_out = frame.copy()\n",
    "    \n",
    "    cars = car_cascade.detectMultiScale(frame_out, 1.8, 2)\n",
    "    for (x,y,w,h) in cars: \n",
    "        cv2.rectangle(frame_out,(x,y),(x+w,y+h),(0,0,255),2)\n",
    "        cv2.putText(frame_out,\"Carro\", (x,y) , cv2.FONT_HERSHEY_SIMPLEX, 0.4, (255,255,255), 1, cv2.LINE_AA)\n",
    "\n",
    "            \n",
    "    \n",
    "    \n",
    "    if config['parking_detection']:        \n",
    "        for ind, park in enumerate(parking_data):\n",
    "            roi_gray = frame_gray[rect[1]:(rect[1]+rect[3]), rect[0]:(rect[0]+rect[2])] # crop roi for faster calculation   \n",
    "            # print np.std(roi_gray)\n",
    "            \n",
    "            \n",
    "           \n",
    "            #print rect\n",
    "            #print points2\n",
    "            \n",
    "            roi_gray_2 = frame_out[rect[1]:(rect[1]+rect[3]), rect[0]:(rect[0]+rect[2])]\n",
    "            \n",
    "            for (x,y,w,h) in cars: \n",
    "                cv2.rectangle(frame_out,(x,y),(x+w,y+h),(0,0,255),2)\n",
    "                cv2.putText(frame_out,\"Carro\", (x,y) , cv2.FONT_HERSHEY_SIMPLEX, 0.4, (255,255,255), 1, cv2.LINE_AA)\n",
    "\n",
    "            \n",
    "            points2[:,0] = points2[:,0] - rect[0] # shift contour to roi\n",
    "            points2[:,1] = points2[:,1] - rect[1]\n",
    "            \n",
    "            \n",
    "            status = np.std(roi_gray) < 22 and np.mean(roi_gray) > 53\n",
    "            # If detected a change in parking status, save the current time\n",
    "            if status != parking_status[ind] and parking_buffer[ind]==None:\n",
    "                parking_buffer[ind] = video_cur_pos\n",
    "            # If status is still different than the one saved and counter is open\n",
    "            elif status != parking_status[ind] and parking_buffer[ind]!=None:\n",
    "                if video_cur_pos - parking_buffer[ind] > config['park_sec_to_wait']:\n",
    "                    parking_status[ind] = status\n",
    "                    parking_buffer[ind] = None\n",
    "            # If status is still same and counter is open                    \n",
    "            elif status == parking_status[ind] and parking_buffer[ind]!=None:\n",
    "                #if video_cur_pos - parking_buffer[ind] > config['park_sec_to_wait']:\n",
    "                parking_buffer[ind] = None                    \n",
    "            # print(parking_status)\n",
    "    if config['parking_overlay']:                    \n",
    "        for ind, park in enumerate(parking_data):\n",
    "            points2 = np.array(park['coordinates'])\n",
    "            if parking_status[ind]: \n",
    "                color = (0,255,0)\n",
    "                spot = spot+1\n",
    "            else: \n",
    "                color = (0,0,255)\n",
    "                occupied = occupied+1\n",
    "            \n",
    "            #rect = parking_bounding_rects[ind]\n",
    "            #print rect \n",
    "           \n",
    "            cv2.drawContours(frame_out, [points2], contourIdx=-1,\n",
    "                             color=color, thickness=2, lineType=cv2.LINE_8)            \n",
    "            moments = cv2.moments(points2)        \n",
    "            centroid = (int(moments['m10']/moments['m00'])-3, int(moments['m01']/moments['m00'])+3)\n",
    "            cv2.putText(frame_out, str(park['id']), (centroid[0]+1, centroid[1]+1), cv2.FONT_HERSHEY_SIMPLEX, 0.4, (255,255,255), 1, cv2.LINE_AA)\n",
    "            cv2.putText(frame_out, str(park['id']), (centroid[0]-1, centroid[1]-1), cv2.FONT_HERSHEY_SIMPLEX, 0.4, (255,255,255), 1, cv2.LINE_AA)\n",
    "            cv2.putText(frame_out, str(park['id']), (centroid[0]+1, centroid[1]-1), cv2.FONT_HERSHEY_SIMPLEX, 0.4, (255,255,255), 1, cv2.LINE_AA)\n",
    "            cv2.putText(frame_out, str(park['id']), (centroid[0]-1, centroid[1]+1), cv2.FONT_HERSHEY_SIMPLEX, 0.4, (255,255,255), 1, cv2.LINE_AA)\n",
    "            cv2.putText(frame_out, str(park['id']), centroid, cv2.FONT_HERSHEY_SIMPLEX, 0.4, (0,0,0), 1, cv2.LINE_AA)\n",
    "\n",
    "    # Draw Overlay\n",
    "    if config['text_overlay']:\n",
    "        cv2.rectangle(frame_out, (1, 5), (280, 90),(255,255,255), 85) \n",
    "        str_on_frame = \"Frames: %d/%d\" % (video_cur_frame, video_info['num_of_frames'])\n",
    "        cv2.putText(frame_out, str_on_frame, (5,30), cv2.FONT_HERSHEY_SCRIPT_COMPLEX,\n",
    "                    0.7, (0,128,255), 2, cv2.LINE_AA)\n",
    "        str_on_frame = \"Livre: %d Ocupado: %d\" % (spot, occupied)\n",
    "        cv2.putText(frame_out, str_on_frame, (5,90), cv2.FONT_HERSHEY_SCRIPT_COMPLEX,\n",
    "                            0.7, (0,128,255), 2, cv2.LINE_AA)\n",
    " \n",
    "            \n",
    "    # write the output frame\n",
    "    if config['save_video']:\n",
    "        if video_cur_frame % 35 == 0: # take every 30 frames\n",
    "            out.write(frame_out)    \n",
    "    \n",
    "    # Display video\n",
    "    cv2.imshow('Vagas de Estacionamento', frame_out)\n",
    "    cv2.waitKey(40)\n",
    "    # cv2.imshow('background mask', bw)\n",
    "    k = cv2.waitKey(1)\n",
    "    if k == ord('q'):\n",
    "        break\n",
    "    elif k == ord('c'):\n",
    "        cv2.imwrite('frame%d.jpg' % video_cur_frame, frame_out)\n",
    "    elif k == ord('j'):\n",
    "        cap.set(cv2.CAP_PROP_POS_FRAMES, video_cur_frame+1000) # jump to frame\n",
    "\n",
    "\n",
    "cap.release()\n",
    "if config['save_video']: out.release()\n",
    "cv2.destroyAllWindows()    "
   ]
  },
  {
   "cell_type": "code",
   "execution_count": 17,
   "metadata": {},
   "outputs": [
    {
     "data": {
      "image/png": "[encoded data removed]",
      "text/plain": [
       "<matplotlib.figure.Figure at 0x7f9b7c6b7f90>"
      ]
     },
     "metadata": {},
     "output_type": "display_data"
    }
   ],
   "source": [
    "plt.imshow(roi_gray_2)\n",
    "plt.show()"
   ]
  },
  {
   "cell_type": "markdown",
   "metadata": {},
   "source": [
    "# TensorFlow"
   ]
  },
  {
   "cell_type": "code",
   "execution_count": 18,
   "metadata": {
    "collapsed": true
   },
   "outputs": [],
   "source": [
    "import tensorflow as tf,sys"
   ]
  },
  {
   "cell_type": "markdown",
   "metadata": {},
   "source": [
    "## Escreve Frame Lido e Lê"
   ]
  },
  {
   "cell_type": "code",
   "execution_count": 40,
   "metadata": {
    "collapsed": true
   },
   "outputs": [],
   "source": [
    "image_path = 'frameTL.jpg'\n",
    "cv2.imwrite(image_path, roi_gray_2)\n",
    "image_data = tf.gfile.FastGFile(image_path, 'rb').read()\n"
   ]
  },
  {
   "cell_type": "code",
   "execution_count": 26,
   "metadata": {
    "collapsed": true
   },
   "outputs": [],
   "source": [
    "label_lines = [line.rstrip() for line in tf.gfile.GFile(\"/tf_files/retrained_labels.txt\")]"
   ]
  },
  {
   "cell_type": "code",
   "execution_count": 27,
   "metadata": {
    "collapsed": true
   },
   "outputs": [],
   "source": [
    "with tf.gfile.FastGFile(\"/tf_files/retrained_graph.pb\", 'rb') as f:\n",
    "    graph_def = tf.GraphDef()\n",
    "    graph_def.ParseFromString(f.read())\n",
    "    _ = tf.import_graph_def(graph_def, name=\"\") "
   ]
  },
  {
   "cell_type": "code",
   "execution_count": 53,
   "metadata": {},
   "outputs": [
    {
     "name": "stdout",
     "output_type": "stream",
     "text": [
      "busy 0.9762689\n",
      "free 0.023731152\n"
     ]
    }
   ],
   "source": [
    "pontuacao = []\n",
    "with tf.Session() as sess:\n",
    "    softmax_tensor = sess.graph.get_tensor_by_name('final_result:0')\n",
    "    predictions = sess.run(softmax_tensor,  {'DecodeJpeg/contents:0': image_data})\n",
    "    \n",
    "    \n",
    "    top_k = predictions[0].argsort()[-len(predictions[0]):][::-1]\n",
    "    \n",
    "     \n",
    "    for node_id in top_k:\n",
    "        human_string= label_lines[node_id]\n",
    "        score = predictions[0][node_id]\n",
    "        pontuacao.append(score)\n",
    "        print human_string, score"
   ]
  },
  {
   "cell_type": "markdown",
   "metadata": {},
   "source": [
    "# Função Classificadora Tensor Flow"
   ]
  },
  {
   "cell_type": "code",
   "execution_count": 60,
   "metadata": {
    "collapsed": true
   },
   "outputs": [],
   "source": [
    "def classificador(frame):\n",
    "    image_path = 'frameTL.jpg'\n",
    "    cv2.imwrite(image_path, frame)\n",
    "    image_data = tf.gfile.FastGFile(image_path, 'rb').read()\n",
    "\n",
    "    label_lines = [line.rstrip() for line in tf.gfile.GFile(\"/tf_files/retrained_labels.txt\")]\n",
    "    \n",
    "    with tf.gfile.FastGFile(\"/tf_files/retrained_graph.pb\", 'rb') as f:\n",
    "        graph_def = tf.GraphDef()\n",
    "        graph_def.ParseFromString(f.read())\n",
    "        _ = tf.import_graph_def(graph_def, name=\"\") \n",
    "        \n",
    "        \n",
    "    pontuacao = []\n",
    "    with tf.Session() as sess:\n",
    "        softmax_tensor = sess.graph.get_tensor_by_name('final_result:0')\n",
    "        predictions = sess.run(softmax_tensor,  {'DecodeJpeg/contents:0': image_data})\n",
    "\n",
    "\n",
    "        top_k = predictions[0].argsort()[-len(predictions[0]):][::-1]\n",
    "\n",
    "\n",
    "        for node_id in top_k:\n",
    "            human_string= label_lines[node_id]\n",
    "            score = predictions[0][node_id]\n",
    "            pontuacao.append(score)\n",
    "            #print human_string, score    \n",
    "\n",
    "    return pontuacao"
   ]
  },
  {
   "cell_type": "code",
   "execution_count": 62,
   "metadata": {
    "collapsed": true
   },
   "outputs": [],
   "source": [
    " r =classificador(roi_gray_2)"
   ]
  },
  {
   "cell_type": "code",
   "execution_count": null,
   "metadata": {
    "collapsed": true
   },
   "outputs": [],
   "source": [
    "config = {'save_video': False,\n",
    "          'text_overlay': True,\n",
    "          'parking_overlay': True,\n",
    "          'parking_id_overlay': False,\n",
    "          'parking_detection': True,\n",
    "          'min_area_motion_contour': 60,\n",
    "          'park_sec_to_wait': 3,\n",
    "          'start_frame': 0} #35000\n",
    "\n",
    "\n",
    "carros = []\n",
    "# Set capture device or file\n",
    "cap = cv2.VideoCapture(nomeVideo)\n",
    "# print cap.get(5) \n",
    "video_info = {'fps':    cap.get(cv2.CAP_PROP_FPS),\n",
    "              'width':  int(cap.get(cv2.CAP_PROP_FRAME_WIDTH)),\n",
    "              'height': int(cap.get(cv2.CAP_PROP_FRAME_HEIGHT)),\n",
    "              'fourcc': cap.get(cv2.CAP_PROP_FOURCC),\n",
    "              'num_of_frames': int(cap.get(cv2.CAP_PROP_FRAME_COUNT))}\n",
    "cap.set(cv2.CAP_PROP_POS_FRAMES, config['start_frame']) # jump to frame\n",
    "\n",
    "# Define the codec and create VideoWriter object\n",
    "if config['save_video']:\n",
    "    fourcc = cv2.VideoWriter_fourcc('D','I','V','X')# options: ('P','I','M','1'), ('D','I','V','X'), ('M','J','P','G'), ('X','V','I','D')\n",
    "    out = cv2.VideoWriter(fn_out, -1, 25.0, #video_info['fps'], \n",
    "                          (video_info['width'], video_info['height']))\n",
    "\n",
    "\n",
    " #(parking space polygons)\n",
    " \n",
    "parking_data = points\n",
    "parking_contours = []\n",
    "parking_bounding_rects = []\n",
    "parking_mask = []\n",
    "for park in parking_data:\n",
    "    points2 = np.array(park['coordinates'])\n",
    "    rect = cv2.boundingRect(points2)\n",
    "    points_shifted = points2.copy()\n",
    "    points_shifted[:,0] = points2[:,0] - rect[0] # shift contour to roi\n",
    "    points_shifted[:,1] = points2[:,1] - rect[1]\n",
    "    parking_contours.append(points2)\n",
    "    parking_bounding_rects.append(rect)\n",
    "    mask = cv2.drawContours(np.zeros((rect[3], rect[2]), dtype=np.uint8), [points_shifted], contourIdx=-1,\n",
    "                            color=255, thickness=-1, lineType=cv2.LINE_8)\n",
    "    mask = mask==255\n",
    "    parking_mask.append(mask)\n",
    "\n",
    "parking_status = [False]*len(parking_data)\n",
    "parking_buffer = [None]*len(parking_data)\n",
    "\n",
    "\n",
    "while(cap.isOpened()):   \n",
    "    spot = 0\n",
    "    occupied = 0 \n",
    "    # Read frame-by-frame    \n",
    "    video_cur_pos = cap.get(cv2.CAP_PROP_POS_MSEC) / 1000.0 # Current position of the video file in seconds\n",
    "    video_cur_frame = cap.get(cv2.CAP_PROP_POS_FRAMES) # Index of the frame to be decoded/captured next\n",
    "    ret, frame = cap.read()    \n",
    "    if ret == False:\n",
    "        print(\"Capture Error\")\n",
    "        break\n",
    "    \n",
    "    # frame_gray = cv2.cvtColor(frame.copy(), cv2.COLOR_BGR2GRAY)\n",
    "    # Background Subtraction\n",
    "    frame_blur = cv2.GaussianBlur(frame.copy(), (5,5), 3)\n",
    "    frame_gray = cv2.cvtColor(frame_blur, cv2.COLOR_BGR2GRAY)\n",
    "    frame_out = frame.copy()\n",
    "    \n",
    "    cars = car_cascade.detectMultiScale(frame_out, 1.8, 2)\n",
    "    for (x,y,w,h) in cars: \n",
    "        cv2.rectangle(frame_out,(x,y),(x+w,y+h),(0,0,255),2)\n",
    "        cv2.putText(frame_out,\"Carro\", (x,y) , cv2.FONT_HERSHEY_SIMPLEX, 0.4, (255,255,255), 1, cv2.LINE_AA)\n",
    "\n",
    "            \n",
    "    \n",
    "    \n",
    "    if config['parking_detection']:        \n",
    "        for ind, park in enumerate(parking_data):\n",
    "            roi_gray = frame_gray[rect[1]:(rect[1]+rect[3]), rect[0]:(rect[0]+rect[2])] # crop roi for faster calculation   \n",
    "            \n",
    "            roi_gray_2 = frame_out[rect[1]:(rect[1]+rect[3]), rect[0]:(rect[0]+rect[2])]\n",
    "            \n",
    "            points2[:,0] = points2[:,0] - rect[0] # shift contour to roi\n",
    "            points2[:,1] = points2[:,1] - rect[1]\n",
    "            \n",
    "            #Status Atualizado com TensorClassificador\n",
    "            r = classificador(roi_gray_2)\n",
    "            \n",
    "            status = (r[0]>r[1])\n",
    "            #status = np.std(roi_gray) < 22 and np.mean(roi_gray) > 53\n",
    "            # If detected a change in parking status, save the current time\n",
    "            if status != parking_status[ind] and parking_buffer[ind]==None:\n",
    "                parking_buffer[ind] = video_cur_pos\n",
    "            # If status is still different than the one saved and counter is open\n",
    "            elif status != parking_status[ind] and parking_buffer[ind]!=None:\n",
    "                if video_cur_pos - parking_buffer[ind] > config['park_sec_to_wait']:\n",
    "                    parking_status[ind] = status\n",
    "                    parking_buffer[ind] = None\n",
    "            # If status is still same and counter is open                    \n",
    "            elif status == parking_status[ind] and parking_buffer[ind]!=None:\n",
    "                #if video_cur_pos - parking_buffer[ind] > config['park_sec_to_wait']:\n",
    "                parking_buffer[ind] = None                    \n",
    "            # print(parking_status)\n",
    "    if config['parking_overlay']:                    \n",
    "        for ind, park in enumerate(parking_data):\n",
    "            points2 = np.array(park['coordinates'])\n",
    "            if parking_status[ind]: \n",
    "                color = (0,255,0)\n",
    "                spot = spot+1\n",
    "            else: \n",
    "                color = (0,0,255)\n",
    "                occupied = occupied+1\n",
    "            \n",
    "            #rect = parking_bounding_rects[ind]\n",
    "            #print rect \n",
    "           \n",
    "            cv2.drawContours(frame_out, [points2], contourIdx=-1,\n",
    "                             color=color, thickness=2, lineType=cv2.LINE_8)            \n",
    "            moments = cv2.moments(points2)        \n",
    "            centroid = (int(moments['m10']/moments['m00'])-3, int(moments['m01']/moments['m00'])+3)\n",
    "            cv2.putText(frame_out, str(park['id']), (centroid[0]+1, centroid[1]+1), cv2.FONT_HERSHEY_SIMPLEX, 0.4, (255,255,255), 1, cv2.LINE_AA)\n",
    "            cv2.putText(frame_out, str(park['id']), (centroid[0]-1, centroid[1]-1), cv2.FONT_HERSHEY_SIMPLEX, 0.4, (255,255,255), 1, cv2.LINE_AA)\n",
    "            cv2.putText(frame_out, str(park['id']), (centroid[0]+1, centroid[1]-1), cv2.FONT_HERSHEY_SIMPLEX, 0.4, (255,255,255), 1, cv2.LINE_AA)\n",
    "            cv2.putText(frame_out, str(park['id']), (centroid[0]-1, centroid[1]+1), cv2.FONT_HERSHEY_SIMPLEX, 0.4, (255,255,255), 1, cv2.LINE_AA)\n",
    "            cv2.putText(frame_out, str(park['id']), centroid, cv2.FONT_HERSHEY_SIMPLEX, 0.4, (0,0,0), 1, cv2.LINE_AA)\n",
    "\n",
    "    # Draw Overlay\n",
    "    if config['text_overlay']:\n",
    "        cv2.rectangle(frame_out, (1, 5), (280, 90),(255,255,255), 85) \n",
    "        str_on_frame = \"Frames: %d/%d\" % (video_cur_frame, video_info['num_of_frames'])\n",
    "        cv2.putText(frame_out, str_on_frame, (5,30), cv2.FONT_HERSHEY_SCRIPT_COMPLEX,\n",
    "                    0.7, (0,128,255), 2, cv2.LINE_AA)\n",
    "        str_on_frame = \"Livre: %d Ocupado: %d\" % (spot, occupied)\n",
    "        cv2.putText(frame_out, str_on_frame, (5,90), cv2.FONT_HERSHEY_SCRIPT_COMPLEX,\n",
    "                            0.7, (0,128,255), 2, cv2.LINE_AA)\n",
    " \n",
    "            \n",
    "    # write the output frame\n",
    "    if config['save_video']:\n",
    "        if video_cur_frame % 35 == 0: # take every 30 frames\n",
    "            out.write(frame_out)    \n",
    "    \n",
    "    # Display video\n",
    "    cv2.imshow('Vagas de Estacionamento', frame_out)\n",
    "    cv2.waitKey(40)\n",
    "    # cv2.imshow('background mask', bw)\n",
    "    k = cv2.waitKey(1)\n",
    "    if k == ord('q'):\n",
    "        break\n",
    "    elif k == ord('c'):\n",
    "        cv2.imwrite('frame%d.jpg' % video_cur_frame, frame_out)\n",
    "    elif k == ord('j'):\n",
    "        cap.set(cv2.CAP_PROP_POS_FRAMES, video_cur_frame+1000) # jump to frame\n",
    "\n",
    "\n",
    "cap.release()\n",
    "if config['save_video']: out.release()\n",
    "cv2.destroyAllWindows()    "
   ]
  },
  {
   "cell_type": "code",
   "execution_count": 63,
   "metadata": {},
   "outputs": [
    {
     "data": {
      "text/plain": [
       "[0.9762689, 0.023731152]"
      ]
     },
     "execution_count": 63,
     "metadata": {},
     "output_type": "execute_result"
    }
   ],
   "source": [
    "r"
   ]
  },
  {
   "cell_type": "code",
   "execution_count": 64,
   "metadata": {},
   "outputs": [
    {
     "data": {
      "text/plain": [
       "0.9762689"
      ]
     },
     "execution_count": 64,
     "metadata": {},
     "output_type": "execute_result"
    }
   ],
   "source": [
    "r[0]"
   ]
  },
  {
   "cell_type": "code",
   "execution_count": 65,
   "metadata": {},
   "outputs": [
    {
     "data": {
      "text/plain": [
       "False"
      ]
     },
     "execution_count": 65,
     "metadata": {},
     "output_type": "execute_result"
    }
   ],
   "source": [
    "status"
   ]
  },
  {
   "cell_type": "code",
   "execution_count": null,
   "metadata": {
    "collapsed": true
   },
   "outputs": [],
   "source": [
    "status = np.std(roi_gray) < 22 and np.mean(roi_gray) > 53"
   ]
  },
  {
   "cell_type": "code",
   "execution_count": 71,
   "metadata": {
    "collapsed": true
   },
   "outputs": [],
   "source": [
    "status = (r[0]>r[1])"
   ]
  },
  {
   "cell_type": "code",
   "execution_count": 72,
   "metadata": {},
   "outputs": [
    {
     "data": {
      "text/plain": [
       "True"
      ]
     },
     "execution_count": 72,
     "metadata": {},
     "output_type": "execute_result"
    }
   ],
   "source": [
    "status"
   ]
  },
  {
   "cell_type": "code",
   "execution_count": null,
   "metadata": {
    "collapsed": true
   },
   "outputs": [],
   "source": []
  }
 ],
 "metadata": {
  "kernelspec": {
   "display_name": "Python 3",
   "language": "python",
   "name": "python3"
  },
  "language_info": {
   "codemirror_mode": {
    "name": "ipython",
    "version": 2
   },
   "file_extension": ".py",
   "mimetype": "text/x-python",
   "name": "python",
   "nbconvert_exporter": "python",
   "pygments_lexer": "ipython2",
   "version": "2.7.15"
  }
 },
 "nbformat": 4,
 "nbformat_minor": 2
}
